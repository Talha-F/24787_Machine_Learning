{
  "nbformat": 4,
  "nbformat_minor": 5,
  "metadata": {
    "kernelspec": {
      "display_name": "Python 3 (ipykernel)",
      "language": "python",
      "name": "python3"
    },
    "language_info": {
      "codemirror_mode": {
        "name": "ipython",
        "version": 3
      },
      "file_extension": ".py",
      "mimetype": "text/x-python",
      "name": "python",
      "nbconvert_exporter": "python",
      "pygments_lexer": "ipython3",
      "version": "3.9.7"
    },
    "colab": {
      "name": "HW-1-mfaiz.ipynb",
      "provenance": []
    }
  },
  "cells": [
    {
      "cell_type": "markdown",
      "metadata": {
        "id": "6d64dc90"
      },
      "source": [
        "### 24787 Homework-1 Problem-1(b)"
      ],
      "id": "6d64dc90"
    },
    {
      "cell_type": "code",
      "metadata": {
        "id": "5f6cee44",
        "outputId": "8b5cf4d0-7ce4-4d0d-dfed-d6f162868e39"
      },
      "source": [
        "#24787 Homework-1 Problem-1(b)\n",
        "\n",
        "import numpy as np\n",
        "\n",
        "#Ask for how many coordinates to expect\n",
        "n = int(input(\"How many coordinates: \"))    \n",
        "\n",
        "#Initializes matrices in the correct shape and prefills them with 1's\n",
        "matX = np.ones([n,2])\n",
        "matY = np.ones([n])\n",
        "\n",
        "#Inputs the coordinates in correct format to a matrix\n",
        "for i in range(n):\n",
        "    print(\"Define point #\",i+1)\n",
        "    matX[i][1] = input(\"Enter the X coordinate: \")\n",
        "    matY[i] = input(\"Enter the Y coordinate: \")\n",
        "\n",
        "matY = np.transpose(matY)\n",
        "\n",
        "\n",
        "#Solving the normal equation\n",
        "mat2 = np.dot(np.transpose(matX), matX)\n",
        "try:\n",
        "    mat3 = np.linalg.inv(mat2)\n",
        "except:\n",
        "    print(\"These set of points renders a matrix which is non-invertible. Please reduce the number of features or try again for new values.\")\n",
        "mat4 = np.dot(np.dot(mat3, np.transpose(matX)),matY)\n",
        "\n",
        "\n",
        "print(matX)\n",
        "print(matY)\n",
        "\n",
        "#Printing the result\n",
        "print(\"Theta_0 = \", mat4[0])\n",
        "print(\"Theta_1 = \", mat4[1])\n",
        "print(\"y = \", mat4[0],\" + (x * \",mat4[1],\")\")\n"
      ],
      "id": "5f6cee44",
      "execution_count": null,
      "outputs": [
        {
          "name": "stdout",
          "output_type": "stream",
          "text": [
            "How many coordinates: 5\n",
            "Define point # 1\n",
            "Enter the X coordinate: -2\n",
            "Enter the Y coordinate: 2\n",
            "Define point # 2\n",
            "Enter the X coordinate: 2\n",
            "Enter the Y coordinate: 4\n",
            "Define point # 3\n",
            "Enter the X coordinate: 3\n",
            "Enter the Y coordinate: 8\n",
            "Define point # 4\n",
            "Enter the X coordinate: 5\n",
            "Enter the Y coordinate: 11\n",
            "Define point # 5\n",
            "Enter the X coordinate: 4\n",
            "Enter the Y coordinate: 17\n",
            "[[ 1. -2.]\n",
            " [ 1.  2.]\n",
            " [ 1.  3.]\n",
            " [ 1.  5.]\n",
            " [ 1.  4.]]\n",
            "[ 2.  4.  8. 11. 17.]\n",
            "Theta_0 =  4.273972602739728\n",
            "Theta_1 =  1.7191780821917801\n",
            "y =  4.273972602739728  + (x *  1.7191780821917801 )\n"
          ]
        }
      ]
    },
    {
      "cell_type": "markdown",
      "metadata": {
        "id": "fccd8188"
      },
      "source": [
        "### 24787 Homework-1 Problem-1(c)"
      ],
      "id": "fccd8188"
    },
    {
      "cell_type": "code",
      "metadata": {
        "id": "aec4a898",
        "outputId": "0c8ed8ed-51c9-4b14-9c69-0dd4bc3a4301"
      },
      "source": [
        "#24787 Homework-1 Problem-1(c)\n",
        "\n",
        "import csv\n",
        "import numpy as np\n",
        "\n",
        "#Import file without pandas\n",
        "file = open(\"data.csv\")\n",
        "reader = csv.reader(file, delimiter=\",\")\n",
        "lines= list(reader)\n",
        "\n",
        "\n",
        "#Initializes matrices in the correct shape and prefills them with 1's\n",
        "n = len(lines)\n",
        "matX = np.ones([n-1,2])\n",
        "matY = np.ones([n-1])\n",
        "\n",
        "\n",
        "#Inputs the coordinates in correct format to a matrix\n",
        "for i in range(1,n):\n",
        "    matX[i-1][1] = float(lines[i][0])\n",
        "    matY[i-1] = float(lines[i][1])\n",
        "matY = np.transpose(matY)\n",
        "\n",
        "\n",
        "#Solving the normal equation\n",
        "mat2 = np.dot(np.transpose(matX), matX)\n",
        "mat3 = np.linalg.inv(mat2)\n",
        "mat4 = np.dot(np.dot(mat3, np.transpose(matX)),matY)\n",
        "\n",
        "print(\"Theta_0 = \", mat4[0])\n",
        "print(\"Theta_1 = \", mat4[1])\n",
        "print(\"y = \", mat4[0],\" + (x * \",mat4[1],\")\")\n"
      ],
      "id": "aec4a898",
      "execution_count": null,
      "outputs": [
        {
          "name": "stdout",
          "output_type": "stream",
          "text": [
            "Theta_0 =  4.080657141894995\n",
            "Theta_1 =  -0.4423691385043128\n",
            "y =  4.080657141894995  + (x *  -0.4423691385043128 )\n"
          ]
        }
      ]
    },
    {
      "cell_type": "markdown",
      "metadata": {
        "id": "f2451b5e"
      },
      "source": [
        "### 24787 Homework-1 Problem-2(a)\n"
      ],
      "id": "f2451b5e"
    },
    {
      "cell_type": "code",
      "metadata": {
        "id": "b8b90e46"
      },
      "source": [
        "#24787 Homework-1 Problem-2(a)\n",
        "\n",
        "def includes(item, val, start_ind = None):\n",
        "    if (start_ind == None):\n",
        "        start_ind = 1\n",
        "   \n",
        "    check = 0\n",
        "    \n",
        "    if (isinstance(item, dict) == True):\n",
        "        for i in item:\n",
        "            if(str(item[i]) == str(val)):\n",
        "                check = 1\n",
        "                break\n",
        "        \n",
        "    else:  \n",
        "        for i in range(start_ind-1,len(item)):\n",
        "            if (item[i] == val):\n",
        "                check = 1\n",
        "                break\n",
        "        \n",
        "    if (check == 1):\n",
        "        print(\"True\")\n",
        "    else: print(\"False\")\n",
        "   "
      ],
      "id": "b8b90e46",
      "execution_count": null,
      "outputs": []
    },
    {
      "cell_type": "code",
      "metadata": {
        "id": "708ea509",
        "outputId": "462b8cfb-0059-4530-fc36-d54434fad335"
      },
      "source": [
        "includes([2,3,4],2,0)\n",
        "includes([2,3,4],4,1)\n",
        "includes({'a':1,'b':2}, 1)\n",
        "includes({'a':1,'b':2}, 'a')\n",
        "includes('abcd','b')"
      ],
      "id": "708ea509",
      "execution_count": null,
      "outputs": [
        {
          "name": "stdout",
          "output_type": "stream",
          "text": [
            "True\n",
            "True\n",
            "True\n",
            "False\n",
            "True\n"
          ]
        }
      ]
    },
    {
      "cell_type": "markdown",
      "metadata": {
        "id": "791429b1"
      },
      "source": [
        "###  24787 Homework-1 Problem-2(b)"
      ],
      "id": "791429b1"
    },
    {
      "cell_type": "code",
      "metadata": {
        "id": "92409768"
      },
      "source": [
        "#24787 Homework-1 Problem-2(b)\n",
        "#Method 1: Simpler implementation but wasnt sure if a global list can be defined in the homework\n",
        "\n",
        "l = []  #Global list\n",
        "\n",
        "def moving_average(val=None):\n",
        "    if val == None:\n",
        "        return (\"No value entered\")    #Taking care of edge cases\n",
        "    else:\n",
        "        l.append(val)    #Append new input \n",
        "        avg = sum(l)/len(l)\n",
        "        return (round(avg,1))"
      ],
      "id": "92409768",
      "execution_count": null,
      "outputs": []
    },
    {
      "cell_type": "code",
      "metadata": {
        "id": "277d4baf",
        "outputId": "ba7917d7-3f92-4b46-a3b9-cd6b353f6243"
      },
      "source": [
        "mAvg = moving_average()\n",
        "print(mAvg(10))\n",
        "print(mAvg(11))\n",
        "print(mAvg(12))"
      ],
      "id": "277d4baf",
      "execution_count": null,
      "outputs": [
        {
          "name": "stdout",
          "output_type": "stream",
          "text": [
            "[10]\n",
            "10.0\n",
            "[10, 11]\n",
            "10.5\n",
            "[10, 11, 12]\n",
            "11.0\n"
          ]
        }
      ]
    },
    {
      "cell_type": "code",
      "metadata": {
        "id": "31aed5dc"
      },
      "source": [
        "#24787 Homework-1 Problem-2(b)\n",
        "#Method 2: Doesnt need a global list to be defined\n",
        "\n",
        "def moving_average():\n",
        "    \n",
        "    #Initializes empty list\n",
        "    l =[]\n",
        "    \n",
        "    def m_avg(m=None):\n",
        "        \n",
        "        #If no value is entered, return the current moving average\n",
        "        if m==None:\n",
        "            return (sum(l)/len(l))\n",
        "        \n",
        "        #If a new value is entered, store it and print the moving average\n",
        "        elif type(m) == int:\n",
        "            l.append(m)\n",
        "            print(l)\n",
        "            moving_avg = sum(l)/(len(l))\n",
        "            return (moving_avg)\n",
        "        \n",
        "    return (m_avg)"
      ],
      "id": "31aed5dc",
      "execution_count": null,
      "outputs": []
    },
    {
      "cell_type": "code",
      "metadata": {
        "id": "19bf42e5",
        "outputId": "42709a89-10e8-4880-db61-7f0bae5e186d"
      },
      "source": [
        "mAvg = moving_average()\n",
        "print(mAvg(10))\n",
        "print(mAvg(11))\n",
        "print(mAvg(12))"
      ],
      "id": "19bf42e5",
      "execution_count": null,
      "outputs": [
        {
          "name": "stdout",
          "output_type": "stream",
          "text": [
            "[10]\n",
            "10.0\n",
            "[10, 11]\n",
            "10.5\n",
            "[10, 11, 12]\n",
            "11.0\n"
          ]
        }
      ]
    },
    {
      "cell_type": "markdown",
      "metadata": {
        "id": "1243b6b1"
      },
      "source": [
        "### 24787 Homework-1 Problem-2(c)"
      ],
      "id": "1243b6b1"
    },
    {
      "cell_type": "code",
      "metadata": {
        "scrolled": false,
        "id": "4e399dee"
      },
      "source": [
        "#24787 Homework-1 Problem-2(c)\n",
        "\n",
        "\n",
        "def same_frequency(num1, num2):\n",
        "    \n",
        "    #Initialize 2 dictionaries (this is a better method than converting to strings)\n",
        "    dict1 = {}\n",
        "    dict2 = {}\n",
        "    \n",
        "    #Populate the first dictionary\n",
        "    while (num1 != 0):\n",
        "        digit = str(num1%10)    #Extracts the last digit of the number\n",
        "        num1 = int(num1/10)     #Removes the last digit of the number\n",
        "        try:                \n",
        "            dict1[digit] +=1    #If the number is present already, the value will exist, and be updated\n",
        "        except:                 #If the key value pair doesnt exist in the previous line, it would have generated a traceback which is now caught by the try-except\n",
        "            dict1[digit]  =1    #If the number is not present already, a new key-value pair will be registered\n",
        "    \n",
        "    #Populate the second dictionary\n",
        "    while (num2 != 0):\n",
        "        digit = str(num2%10)\n",
        "        num2 = int(num2/10)\n",
        "        try:\n",
        "            dict2[digit] +=1\n",
        "        except:\n",
        "            dict2[digit]  =1\n",
        "    \n",
        "    #Even though dictionaries are not ordered data structures, python allows the user to directly compare two dictionaries with an operator\n",
        "    if (dict1 == dict2):\n",
        "        print('True')\n",
        "    else:\n",
        "        print('False')\n",
        "    "
      ],
      "id": "4e399dee",
      "execution_count": null,
      "outputs": []
    },
    {
      "cell_type": "code",
      "metadata": {
        "id": "373c8175",
        "outputId": "bfa7bc03-e419-4204-f882-b73934eb4f30"
      },
      "source": [
        "#Calling the function to test Homework-1 Problem-2(c)\n",
        "\n",
        "same_frequency(551122, 221515)\n",
        "same_frequency(321142, 3212215)\n",
        "same_frequency(12345, 31354)\n",
        "same_frequency(1212, 2211)"
      ],
      "id": "373c8175",
      "execution_count": null,
      "outputs": [
        {
          "name": "stdout",
          "output_type": "stream",
          "text": [
            "True\n",
            "False\n",
            "False\n",
            "True\n"
          ]
        }
      ]
    },
    {
      "cell_type": "markdown",
      "metadata": {
        "id": "7521e704"
      },
      "source": [
        "### 24787 Homework-1 Problem-2(d)\n"
      ],
      "id": "7521e704"
    },
    {
      "cell_type": "code",
      "metadata": {
        "scrolled": true,
        "id": "3b7cce3f",
        "outputId": "86d06607-a08f-48e0-c34d-4adda040c55c"
      },
      "source": [
        "#24787 Homework-1 Problem-2(d)\n",
        "\n",
        "from numpy import load\n",
        "import matplotlib.pyplot as plt\n",
        "\n",
        "#To view/manipulate the files\n",
        "cluster = load('kmeans.npz')\n",
        "lst = cluster.files\n",
        "\n",
        "#Because there are 4 clusters, we plot 4 scatterplots, each of a different color\n",
        "for i in range(0,len(cluster['data'])):\n",
        "    if   (cluster['pred'][i]==0):\n",
        "        plt.plot(cluster['data'][i][0],cluster['data'][i][1],'o',color='rebeccapurple', alpha=0.6)\n",
        "    elif (cluster['pred'][i]==1):\n",
        "        plt.plot(cluster['data'][i][0],cluster['data'][i][1],'o',color='royalblue', alpha=0.5)\n",
        "    elif (cluster['pred'][i]==2):\n",
        "        plt.plot(cluster['data'][i][0],cluster['data'][i][1],'o',color='mediumaquamarine', alpha=0.6)\n",
        "    elif (cluster['pred'][i]==3):\n",
        "        plt.plot(cluster['data'][i][0],cluster['data'][i][1],'o',color='gold', alpha=0.4)\n",
        "\n",
        "#Plotting the centers of the clusters\n",
        "for i in range(0,len(cluster['centers'])):\n",
        "    plt.plot(cluster['centers'][i][0],cluster['centers'][i][1],'o',color='red', alpha=1)\n"
      ],
      "id": "3b7cce3f",
      "execution_count": null,
      "outputs": [
        {
          "data": {
            "image/png": "[encoded data removed]",
            "text/plain": [
              "<Figure size 432x288 with 1 Axes>"
            ]
          },
          "metadata": {
            "needs_background": "light"
          },
          "output_type": "display_data"
        }
      ]
    },
    {
      "cell_type": "markdown",
      "metadata": {
        "id": "e1586b56"
      },
      "source": [
        "### 24787 Homework-1 Problem-2(e)"
      ],
      "id": "e1586b56"
    },
    {
      "cell_type": "code",
      "metadata": {
        "id": "cfbafcdc"
      },
      "source": [
        "#24787 Homework-1 Problem-2(e)\n",
        "\n",
        "def NUMPY_outer(X,Y):\n",
        "    fields = []\n",
        "    for i in range(len(X)):\n",
        "        field = []\n",
        "        for j in range(len(Y)):\n",
        "            x = X[i]*Y[j]\n",
        "            field.append(x)\n",
        "        fields.append(field) \n",
        "    return(fields)\n",
        "\n"
      ],
      "id": "cfbafcdc",
      "execution_count": null,
      "outputs": []
    },
    {
      "cell_type": "code",
      "metadata": {
        "id": "cccb45f3",
        "outputId": "b297659d-de50-4a00-a572-2e9f6f3ad922"
      },
      "source": [
        "#Testing Homework-1 Problem-2(e)\n",
        "\n",
        "import numpy as np\n",
        "np.random.seed(24787)\n",
        "X = np.random.randint(-1000, 1000, size=3000)\n",
        "Y = np.random.randint(-1000, 1000, size=3000)\n",
        "\n",
        "predefined_function = np.outer(X,Y)\n",
        "userdefined_function = NUMPY_outer(X,Y)\n",
        "\n",
        "if (np.array_equal(predefined_function, userdefined_function) == True):\n",
        "    print(\"Both methods yield the same answer\")\n",
        "else:\n",
        "    print(\"Both methods yield different answers\")\n",
        "\n"
      ],
      "id": "cccb45f3",
      "execution_count": null,
      "outputs": [
        {
          "name": "stdout",
          "output_type": "stream",
          "text": [
            "Implementation is correct\n"
          ]
        }
      ]
    },
    {
      "cell_type": "markdown",
      "metadata": {
        "id": "c24c0da1"
      },
      "source": [
        "Even though both the functions return the same result, the Numpy method is better because of 3 reasons:\n",
        "\n",
        "1. The Numpy method uses arrays (which are a collection of of homogeneous data-types that stored in continuous memory locations) wheras our method uses lists (which are heterogeneous)\n",
        "2. The Numpy package simultaneously computes multiple fragments of the code in parallel\n",
        "3. The Numpy package integrates C, C++, and Fortran codes in Python and thus has faster execution compared to Python"
      ],
      "id": "c24c0da1"
    }
  ]
}